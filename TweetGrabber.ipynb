{
 "cells": [
  {
   "cell_type": "code",
   "execution_count": null,
   "metadata": {},
   "outputs": [],
   "source": [
    "# Grabs tweets related to a given list of keywords and stores them in .json files."
   ]
  },
  {
   "cell_type": "code",
   "execution_count": 1,
   "metadata": {},
   "outputs": [],
   "source": [
    "import time\n",
    "import tweepy\n",
    "from tweepy.streaming import StreamListener\n",
    "from tweepy import OAuthHandler\n",
    "from tweepy import API\n",
    "from tweepy import Stream"
   ]
  },
  {
   "cell_type": "code",
   "execution_count": 2,
   "metadata": {},
   "outputs": [],
   "source": [
    "C_KEY = 'XXXX'              # Twitter login credentials.\n",
    "C_SECRET = 'XXXX'\n",
    "A_TOKEN_KEY = 'XXXX'\n",
    "A_TOKEN_SECRET = 'XXXX'"
   ]
  },
  {
   "cell_type": "code",
   "execution_count": 3,
   "metadata": {},
   "outputs": [],
   "source": [
    "auth = tweepy.OAuthHandler(C_KEY, C_SECRET)\n",
    "auth.set_access_token(A_TOKEN_KEY, A_TOKEN_SECRET)\n",
    "api = tweepy.API(auth)"
   ]
  },
  {
   "cell_type": "code",
   "execution_count": 4,
   "metadata": {},
   "outputs": [],
   "source": [
    "class Listener(StreamListener):\n",
    "    \n",
    "    def __init__(self, time_limit):\n",
    "        self.start_time = time.time()\n",
    "        self.limit = time_limit\n",
    "        self.json_data = []     \n",
    "        self.outFile = open('####', 'a')      # Output filename goes here.\n",
    "        super (Listener, self).__init__()\n",
    "        \n",
    "    def on_data (self, data):\n",
    "        if (time.time() - self.start_time) < self.limit:\n",
    "            if (\"\\\"country_code\\\":\\\"US\\\"\" in data):     # Grab geolocated tweets from the United States. \n",
    "                self.json_data.append(data)\n",
    "            return True\n",
    "        else:\n",
    "            self.outFile.write('[\\n')                   # Write the tweets to the JSON output file.\n",
    "            for x in range (0, len(self.json_data)):\n",
    "                if x < (len(self.json_data) - 1):\n",
    "                    self.json_data[x] += ','\n",
    "                \n",
    "                self.json_data[x] += '\\n'\n",
    "                self.outFile.write(self.json_data[x])\n",
    "            \n",
    "            self.outFile.write(']\\n')\n",
    "            self.outFile.close()\n",
    "            return False\n",
    "    \n",
    "    def on_error (self, status):\n",
    "        print(status)"
   ]
  },
  {
   "cell_type": "code",
   "execution_count": 5,
   "metadata": {},
   "outputs": [
    {
     "name": "stdout",
     "output_type": "stream",
     "text": [
      "Finished\n"
     ]
    }
   ],
   "source": [
    "myStream = Stream(auth, Listener(time_limit = 3600))\n",
    "myStream.filter(track = ['XXXX'])                      # Insert all keywords to look for here.\n",
    "print(\"Finished\")"
   ]
  }
 ],
 "metadata": {
  "kernelspec": {
   "display_name": "Python 3",
   "language": "python",
   "name": "python3"
  },
  "language_info": {
   "codemirror_mode": {
    "name": "ipython",
    "version": 3
   },
   "file_extension": ".py",
   "mimetype": "text/x-python",
   "name": "python",
   "nbconvert_exporter": "python",
   "pygments_lexer": "ipython3",
   "version": "3.7.3"
  }
 },
 "nbformat": 4,
 "nbformat_minor": 2
}
