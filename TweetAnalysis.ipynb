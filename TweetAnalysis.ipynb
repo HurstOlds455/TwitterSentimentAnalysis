{
 "cells": [
  {
   "cell_type": "code",
   "execution_count": null,
   "metadata": {},
   "outputs": [],
   "source": [
    "# Takes in a .json file containing tweets and calculates the sentiment of the tweets."
   ]
  },
  {
   "cell_type": "code",
   "execution_count": 2,
   "metadata": {},
   "outputs": [],
   "source": [
    "import tweepy\n",
    "\n",
    "C_KEY = 'XXXX'\n",
    "C_SECRET = 'XXXX'\n",
    "A_TOKEN_KEY = 'XXXX'\n",
    "A_TOKEN_SECRET = 'XXXX'"
   ]
  },
  {
   "cell_type": "code",
   "execution_count": 3,
   "metadata": {},
   "outputs": [],
   "source": [
    "auth = tweepy.OAuthHandler(C_KEY, C_SECRET)\n",
    "auth.set_access_token(A_TOKEN_KEY, A_TOKEN_SECRET)\n",
    "api = tweepy.API(auth)"
   ]
  },
  {
   "cell_type": "code",
   "execution_count": null,
   "metadata": {},
   "outputs": [],
   "source": [
    "import json\n",
    "\n",
    "#Filter through collected tweets, grab text.\n",
    "\n",
    "tweets = []\n",
    "\n",
    "with open('filename') as f: # Put filename here.\n",
    "    data = json.load(f)\n",
    "    \n",
    "    #Get text from tweets.\n",
    "    for tweet in data:\n",
    "        if \"RT @\" not in tweet['text']: #Filter out retweets.\n",
    "    \n",
    "            if \"… https://t.co/\" in tweet['text']: #True if tweet text is truncated.\n",
    "         \n",
    "                #Try to get full text if tweet is truncated.\n",
    "                try: \n",
    "                   full_tweet = api.get_status(int(tweet['id']), tweet_mode='extended')\n",
    "                   tweets.append(full_tweet.full_text)\n",
    "                \n",
    "                #If original tweet is inaccessible, use truncated version. \n",
    "                except: \n",
    "                   print(\"Failed to grab full text for:\", tweet['id'])\n",
    "                   tweets.append(tweet['text'])\n",
    "                \n",
    "                \n",
    "            else:\n",
    "                tweets.append(tweet['text'])"
   ]
  },
  {
   "cell_type": "code",
   "execution_count": null,
   "metadata": {},
   "outputs": [],
   "source": [
    "from textblob import TextBlob\n",
    "\n",
    "positive = 0\n",
    "negative = 0\n",
    "\n",
    "for t in tweets:\n",
    "    \n",
    "    tweet_text = TextBlob(t)\n",
    "    \n",
    "    if tweet_text.sentiment.subjectivity >= 0.1:  # Tweet must be sufficiently subjective.\n",
    "        \n",
    "        if tweet_text.sentiment.polarity >= 0.1:  # Bounds for positive and negative; neutral tweets are not recorded.\n",
    "            positive += 1\n",
    "        elif tweet_text.sentiment.polarity <= -0.1:\n",
    "            negative += 1\n",
    "            \n",
    "            \n",
    "print(\"Positive:\", positive, \"\\nNegative:\", negative, \"\\nNet sentiment:\", positive - negative)"
   ]
  }
 ],
 "metadata": {
  "kernelspec": {
   "display_name": "Python 3",
   "language": "python",
   "name": "python3"
  },
  "language_info": {
   "codemirror_mode": {
    "name": "ipython",
    "version": 3
   },
   "file_extension": ".py",
   "mimetype": "text/x-python",
   "name": "python",
   "nbconvert_exporter": "python",
   "pygments_lexer": "ipython3",
   "version": "3.7.3"
  }
 },
 "nbformat": 4,
 "nbformat_minor": 2
}
